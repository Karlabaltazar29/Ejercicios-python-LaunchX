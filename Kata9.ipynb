{
  "cells": [
    {
      "cell_type": "markdown",
      "metadata": {},
      "source": [
        "# Ejercicio: Uso de funciones en Python"
      ]
    },
    {
      "cell_type": "markdown",
      "metadata": {},
      "source": [
        "### Ejercicio 1: Trabajar con argumentos en funciones\n",
        "\n",
        "Los argumentos requeridos en las funciones se utilizan cuando las funciones necesitan que esos argumentos funcionen correctamente. En este ejercicio, construirás un informe de combustible que requiere información de varias ubicaciones de combustible en todo el cohete.\n",
        "\n"
      ]
    },
    {
      "cell_type": "markdown",
      "metadata": {},
      "source": [
        "> **TIP**\n",
        "> Dedica unos minutos para tratar de encontrar una solución. Luego desplázate hacia abajo hasta la parte inferior para ver si has logrado compilar el programa de acuerdo con las especificaciones\n",
        "\n",
        "Comienza por crear una función que necesite tres lecturas de combustible y devuelva un informe:"
      ]
    },
    {
      "cell_type": "code",
      "execution_count": null,
      "metadata": {},
      "outputs": [],
      "source": [
        "# Función para leer 3 tanques de combustible y muestre el promedio\n",
        "\n",
        "def fuel_report(tank1, tank2, tank3):\n",
        "    total_average = (tank1 + tank2 + tank3) / 3\n",
        "    return f\"\"\"Fuel Report:\n",
        "    Total Average: {total_average}%\n",
        "    tank1: {tank1}%\n",
        "    tank2: {tank2}%\n",
        "    tank3: {tank3}% \n",
        "    \"\"\"\n"
      ]
    },
    {
      "cell_type": "markdown",
      "metadata": {},
      "source": [
        "Ahora que hemos definido la función de informes, vamos a comprobarlo. Para esta misión, los tanques no están llenos:"
      ]
    },
    {
      "cell_type": "code",
      "execution_count": null,
      "metadata": {},
      "outputs": [],
      "source": [
        "\n",
        "# Llamamos a la función que genera el reporte print(funcion(tanque1, tanque2, tanque3))\n",
        "print(fuel_report(80, 70, 85))\n"
      ]
    },
    {
      "cell_type": "markdown",
      "metadata": {},
      "source": [
        "En lugar de simplemente crear el informe, la función también está calculando el promedio. Mejora la legibilidad extrayendo el cálculo promedio de la función en una nueva función para que el promedio se pueda hacer de forma independiente:"
      ]
    },
    {
      "cell_type": "code",
      "execution_count": null,
      "metadata": {},
      "outputs": [],
      "source": [
        "# Función promedio \n",
        "def average(values):\n",
        "    total = sum(values)\n",
        "    number_of_items = len(values)\n",
        "    return total / number_of_items\n",
        "\n",
        "# Test the averaging function with a list of integers:\n",
        "average([80, 85, 81]) "
      ]
    },
    {
      "cell_type": "markdown",
      "metadata": {},
      "source": [
        "Ahora actualiza la función de informes para llamando a la nueva función del promedio:\n"
      ]
    },
    {
      "cell_type": "code",
      "execution_count": null,
      "metadata": {},
      "outputs": [],
      "source": [
        "# Actualiza la función\n",
        "def fuel_report(tank1, tank2, tank3):\n",
        "    return f\"\"\"Fuel Report:\n",
        "    Total Average: {average([tank1, tank2, tank3])}%\n",
        "    tank1: {tank1}%\n",
        "    External tank: {tank2}%\n",
        "    Hydrogen tank: {tank3}% \n",
        "    \"\"\"\n",
        "\n",
        "# Call the updated function again with different values\n",
        "print(fuel_report(100, 76, 90))"
      ]
    },
    {
      "cell_type": "markdown",
      "metadata": {},
      "source": [
        "> Recuerda: Lo importante es intentarlo, puedes auxiliarte de internet, libros, etc. El objetivo de una kata es la comprobación de la comprensión de la lección y su aplicación inmediata a la resolución de problemas. Go for it!"
      ]
    },
    {
      "cell_type": "markdown",
      "metadata": {},
      "source": [
        "## Ejercicio 2: Trabajo con argumentos de palabra clave"
      ]
    },
    {
      "cell_type": "markdown",
      "metadata": {},
      "source": [
        "### Ejercicio : Trabajar con argumentos de palabras clave en funciones\n",
        "En este ejercicio, construirás un informe de cohete que requiere varias piezas de información, como el tiempo hasta el destino, el combustible a la izquierda y el nombre del destino. Comienza por crear una función que creará un informe preciso de la misión:"
      ]
    },
    {
      "cell_type": "code",
      "execution_count": null,
      "metadata": {},
      "outputs": [],
      "source": [
        "# Función con un informe preciso de la misión. Considera hora de prelanzamiento, tiempo de vuelo, destino, tanque externo y tanque interno\n",
        "def report(pre_lanzamiento, vuelo_time, destino, tanque_externo, tanque_interno):\n",
        "    return f\"\"\"\n",
        "    mision para {destino}\n",
        "    Total travel time: {pre_lanzamiento + vuelo_time} minutos\n",
        "    Total fuel left: {tanque_externo + tanque_interno} galones\n",
        "    \"\"\"\n",
        "\n",
        "print(report(20, 51, \"Jupiter\", 800000, 426700))"
      ]
    },
    {
      "cell_type": "markdown",
      "metadata": {},
      "source": [
        "La función es problemática porque no se puede adaptar para minutos adicionales o tanques adicionales de combustible. Hazlo más flexible permitiendo cualquier número de pasos basados en el tiempo y cualquier número de tanques. En lugar de usar `*args` y `**kwargs`, aprovecha el hecho de que puedes usar cualquier nombre que desees. Asegurate que la función sea más legible mediante el uso de nombres de variables que están asociados con las entradas, como `*minutes` y `**fuel_reservoirs`:"
      ]
    },
    {
      "cell_type": "code",
      "execution_count": null,
      "metadata": {},
      "outputs": [],
      "source": [
        "# Escribe tu nueva función de reporte considerando lo anterior\n",
        "def report2(destino, *minutos, **fuel_reservoirs):\n",
        "    return f\"\"\"\n",
        "    mision hacia {destino}\n",
        "    Tiempo total de viaje : {sum(minutos)} minutos\n",
        "    Total fuel left: {sum(fuel_reservoirs.values())}\n",
        "    \"\"\"\n",
        "\n",
        "print(report2(\"jupiter\", 10, 15, 51, tanque_interno=800000, tanque_externo=426700))"
      ]
    },
    {
      "cell_type": "markdown",
      "metadata": {},
      "source": [
        "Debido a que el combustible que queda en los tanques es específico de cada tanque, actualiza la función para usar el nombre de cada tanque en el informe:"
      ]
    },
    {
      "cell_type": "code",
      "execution_count": null,
      "metadata": {},
      "outputs": [],
      "source": [
        "# Escribe tu nueva función\n",
        "def report2(destino, *minutos, **fuel_reservoirs):\n",
        "    main_report = f\"\"\"\n",
        "    Mission to {destino}\n",
        "    Total travel time: {sum(minutos)} minutes\n",
        "    Total fuel left: {sum(fuel_reservoirs.values())}\n",
        "    \"\"\"\n",
        "    for tank_name, gallons in fuel_reservoirs.items():\n",
        "        main_report += f\"{tank_name} tank --> {gallons} gallons left\\n\"\n",
        "    return main_report\n",
        "\n",
        "print(report2(\"Jupiter\", 19, 25, 65, tanque_interno=800000, tanque_externo=426700))"
      ]
    }
  ],
  "metadata": {
    "interpreter": {
      "hash": "205095b8b86ea82a021a8fc2ffba2b3bc9f8d0be25999901963b225939f75778"
    },
    "kernelspec": {
      "display_name": "Python 3.8.10 64-bit ('tmp': conda)",
      "name": "python3"
    },
    "language_info": {
      "codemirror_mode": {
        "name": "ipython",
        "version": 3
      },
      "file_extension": ".py",
      "mimetype": "text/x-python",
      "name": "python",
      "nbconvert_exporter": "python",
      "pygments_lexer": "ipython3",
      "version": "3.8.10"
    },
    "nteract": {
      "version": "nteract-front-end@1.0.0"
    },
    "orig_nbformat": 4
  },
  "nbformat": 4,
  "nbformat_minor": 2
}
